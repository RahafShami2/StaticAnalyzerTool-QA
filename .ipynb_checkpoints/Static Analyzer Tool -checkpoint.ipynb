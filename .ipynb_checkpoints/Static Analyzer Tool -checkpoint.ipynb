{
 "cells": [
  {
   "cell_type": "markdown",
   "metadata": {},
   "source": [
    "### Here I read the Python code as \"codeFile\" ,\n",
    "### after that we will go through each line of the codeFile\n",
    "### and then add it to the \"stackCode\" list . \n",
    "****************************************"
   ]
  },
  {
   "cell_type": "code",
   "execution_count": 1,
   "metadata": {},
   "outputs": [],
   "source": [
    "stackCode = []\n",
    "with open('PythonCode.py', 'r') as codeFile:\n",
    "    for line in codeFile:      \n",
    "        stackCode.append(line)"
   ]
  },
  {
   "cell_type": "code",
   "execution_count": 2,
   "metadata": {},
   "outputs": [
    {
     "data": {
      "text/plain": [
       "['#!/usr/bin/env python\\n',\n",
       " '# coding: utf-8\\n',\n",
       " '\\n',\n",
       " 'class program:\\n',\n",
       " ' \\n',\n",
       " '    \\n',\n",
       " '    def Calculate(number:int,divisor:int):\\n',\n",
       " '        result = number/divisor;\\n',\n",
       " '        return result\\n',\n",
       " '\\n',\n",
       " '\\n',\n",
       " '    def GetStatusValue(status:int):\\n',\n",
       " '        if status == -1 :\\n',\n",
       " '            print(\"faild\")\\n',\n",
       " '        elif status == 1:\\n',\n",
       " '            print(\"success\")      \\n',\n",
       " '        elif status == 0:\\n',\n",
       " '            print(\"invalid\")\\n',\n",
       " '            \\n',\n",
       " '            \\n',\n",
       " '            \\n',\n",
       " '    def checkStatus():\\n',\n",
       " '        GetStatusValue(2,5)\\n',\n",
       " '        GetStatusValue(\"faild\")\\n',\n",
       " '        \\n',\n",
       " '    \\n',\n",
       " '    def parameters(param1:int,param2:str,param3:float,param4:int):\\n',\n",
       " '        return 1\\n',\n",
       " '    \\n',\n",
       " '    \\n',\n",
       " '    def unReachable(num:int):\\n',\n",
       " '        if num > 40:\\n',\n",
       " '            if num > 30:\\n',\n",
       " '                return 1\\n',\n",
       " '            \\n',\n",
       " '            \\n',\n",
       " '    def Print(student:object):\\n',\n",
       " '        print(\"Student\", student.name)\\n',\n",
       " '        \\n',\n",
       " '    \\n',\n",
       " '    def PrintName():\\n',\n",
       " '        try:\\n',\n",
       " '            print(x)\\n',\n",
       " '        except NameError:\\n',\n",
       " '            print(\"The \\'try \\' is finished\")  \\n',\n",
       " '        except One:\\n',\n",
       " '              \\n',\n",
       " '        finally:\\n',\n",
       " '             print(\"The \\'try \\' is finished\")                ']"
      ]
     },
     "execution_count": 2,
     "metadata": {},
     "output_type": "execute_result"
    }
   ],
   "source": [
    "#print stackCode :\n",
    "stackCode"
   ]
  },
  {
   "cell_type": "markdown",
   "metadata": {},
   "source": [
    "### Get the start index for each function in the code\n",
    "****************************************"
   ]
  },
  {
   "cell_type": "code",
   "execution_count": 3,
   "metadata": {},
   "outputs": [],
   "source": [
    "startIndexOfFunction = []\n",
    "for line in stackCode:\n",
    "    if (\"def\" in line):\n",
    "        startIndexOfFunction.append(stackCode.index(line))       "
   ]
  },
  {
   "cell_type": "code",
   "execution_count": 4,
   "metadata": {},
   "outputs": [
    {
     "data": {
      "text/plain": [
       "[6, 11, 21, 26, 30, 36, 40]"
      ]
     },
     "execution_count": 4,
     "metadata": {},
     "output_type": "execute_result"
    }
   ],
   "source": [
    "startIndexOfFunction\n",
    "#If Result = > [1, 4, 11] >> thats mean that we have function start at index 1 , function start at index 4 and function start at index 11 . "
   ]
  },
  {
   "cell_type": "markdown",
   "metadata": {},
   "source": [
    "####  Here I have stored all the functions inside functionsList \"PS : the start of some function is the end of another\":\n",
    "***********************\n"
   ]
  },
  {
   "cell_type": "code",
   "execution_count": 5,
   "metadata": {},
   "outputs": [],
   "source": [
    "functionsList=[]\n",
    "for i in range(0,len(startIndexOfFunction)):\n",
    "    if(i==(len(startIndexOfFunction)-1)):\n",
    "        functionsList.append(stackCode[startIndexOfFunction[i]:len(stackCode)])\n",
    "        break;\n",
    "    functionsList.append(stackCode[startIndexOfFunction[i]:startIndexOfFunction[i+1]])"
   ]
  },
  {
   "cell_type": "code",
   "execution_count": 6,
   "metadata": {},
   "outputs": [
    {
     "data": {
      "text/plain": [
       "[['    def Calculate(number:int,divisor:int):\\n',\n",
       "  '        result = number/divisor;\\n',\n",
       "  '        return result\\n',\n",
       "  '\\n',\n",
       "  '\\n'],\n",
       " ['    def GetStatusValue(status:int):\\n',\n",
       "  '        if status == -1 :\\n',\n",
       "  '            print(\"faild\")\\n',\n",
       "  '        elif status == 1:\\n',\n",
       "  '            print(\"success\")      \\n',\n",
       "  '        elif status == 0:\\n',\n",
       "  '            print(\"invalid\")\\n',\n",
       "  '            \\n',\n",
       "  '            \\n',\n",
       "  '            \\n'],\n",
       " ['    def checkStatus():\\n',\n",
       "  '        GetStatusValue(2,5)\\n',\n",
       "  '        GetStatusValue(\"faild\")\\n',\n",
       "  '        \\n',\n",
       "  '    \\n'],\n",
       " ['    def parameters(param1:int,param2:str,param3:float,param4:int):\\n',\n",
       "  '        return 1\\n',\n",
       "  '    \\n',\n",
       "  '    \\n'],\n",
       " ['    def unReachable(num:int):\\n',\n",
       "  '        if num > 40:\\n',\n",
       "  '            if num > 30:\\n',\n",
       "  '                return 1\\n',\n",
       "  '            \\n',\n",
       "  '            \\n'],\n",
       " ['    def Print(student:object):\\n',\n",
       "  '        print(\"Student\", student.name)\\n',\n",
       "  '        \\n',\n",
       "  '    \\n'],\n",
       " ['    def PrintName():\\n',\n",
       "  '        try:\\n',\n",
       "  '            print(x)\\n',\n",
       "  '        except NameError:\\n',\n",
       "  '            print(\"The \\'try \\' is finished\")  \\n',\n",
       "  '        except One:\\n',\n",
       "  '              \\n',\n",
       "  '        finally:\\n',\n",
       "  '             print(\"The \\'try \\' is finished\")                ']]"
      ]
     },
     "execution_count": 6,
     "metadata": {},
     "output_type": "execute_result"
    }
   ],
   "source": [
    "functionsList\n",
    "#The result is list of list each list in the parent list contains one function. "
   ]
  },
  {
   "cell_type": "markdown",
   "metadata": {},
   "source": [
    "### Our Static Analyzer Tool :)\n",
    "*****************"
   ]
  },
  {
   "cell_type": "markdown",
   "metadata": {},
   "source": [
    "## Check list functions implementation :\n",
    "..................................................................................................................."
   ]
  },
  {
   "cell_type": "markdown",
   "metadata": {},
   "source": [
    "# 1. Divide by zero :\n",
    "***\n",
    "\n",
    "#### this function will check if the function which is passes to static analyzer\n",
    "#### have a division or not to applay TestDivideByZero function on it .\n",
    "***\n"
   ]
  },
  {
   "cell_type": "code",
   "execution_count": 7,
   "metadata": {},
   "outputs": [],
   "source": [
    "def divisionIsFound(function):\n",
    "    for line in function:\n",
    "        if \"/\" in line:\n",
    "            return True\n",
    "    return False"
   ]
  },
  {
   "cell_type": "markdown",
   "metadata": {},
   "source": [
    "####  TestDivideByZero function will receive the function\n",
    "#### and It passes each line by it and stores the arithmetic sentences inside ArithmeticSentences list ,\n",
    "#### in addetion it will store the location of the arithmetic sentence relative to the code to be checked in the lineIndex list\n",
    "#### then it will  passes each Arithmetic Sentence ArithmeticSentences list to get the denominator \n",
    "#### and check if the value of the denominator is not equal to zero before the arithmetic operation applied\n",
    "#### finally it will write the bug on  report file if it is found and its line .\n"
   ]
  },
  {
   "cell_type": "code",
   "execution_count": 8,
   "metadata": {},
   "outputs": [],
   "source": [
    "def TestDivideByZero(function):\n",
    "    ArithmeticSentences = []\n",
    "    lineIndex=[]\n",
    "    for line in function:\n",
    "        if \"/\" in line:\n",
    "            ArithmeticSentences.append(line)\n",
    "            lineIndex.append(stackCode.index(line))\n",
    " \n",
    "    flag=1\n",
    "    for ArithmeticSentence in ArithmeticSentences:\n",
    "            divisionSymbolIndex =  ArithmeticSentence.index(\"/\")\n",
    "            denominator = ArithmeticSentence[divisionSymbolIndex+1:len(ArithmeticSentence)-1]\n",
    "            for i in range(0,function.index(ArithmeticSentence)):\n",
    "                if \"if(\"+denominator+\" == 0)\" not in function[i]:\n",
    "                    flag=0\n",
    "            if(flag==0):\n",
    "                reportFile.write(\"* devide by zero error ->\" + denominator +\"= 0 at line -> \"+str(lineIndex[ArithmeticSentences.index(ArithmeticSentence)]+1) +\"\\n\")"
   ]
  },
  {
   "cell_type": "markdown",
   "metadata": {},
   "source": [
    "# 2. Null pointer exception :\n",
    "***\n",
    "\n",
    "#### PointerIsFound function will check if the function which is passes to static analyzer\n",
    "#### have a dot  symbol on other word check if the function have a ponter call its proirties \n",
    "#### or not to applay TestNullPointer function on it .\n",
    "***\n"
   ]
  },
  {
   "cell_type": "code",
   "execution_count": 9,
   "metadata": {},
   "outputs": [],
   "source": [
    "def PointerIsFound(function):\n",
    "    for line in function:\n",
    "        if \".\" in line:\n",
    "            return True\n",
    "    return False"
   ]
  },
  {
   "cell_type": "markdown",
   "metadata": {},
   "source": [
    "###  Get variable Name ,  its index relative to the function itself + its index relative to the code to be checked :"
   ]
  },
  {
   "cell_type": "code",
   "execution_count": 10,
   "metadata": {},
   "outputs": [],
   "source": [
    "def GetObjectNameAndindex(function):\n",
    "    objectName = \"\"\n",
    "    for line in function: \n",
    "        if \".\" in line :\n",
    "            indexOfDot= line.index(\".\");\n",
    "            indexOfLineAtFunc = function.index(line)\n",
    "            indexOfLineAtCode = stackCode.index(line)\n",
    "            for i in range(indexOfDot-1, -1, -1):\n",
    "                if(line[i] == \" \"):\n",
    "                    break;\n",
    "                else:\n",
    "                    objectName+=line[i]\n",
    "                    \n",
    "    return(objectName[::-1],indexOfLineAtFunc,indexOfLineAtCode)"
   ]
  },
  {
   "cell_type": "markdown",
   "metadata": {},
   "source": [
    "#### TestNullPointer function will through on the passed function from index = 0 to the index of code which may caouse null pointer error . \n",
    "#### to check if we have an if statment that chek if the variable ! = Null ."
   ]
  },
  {
   "cell_type": "code",
   "execution_count": 11,
   "metadata": {},
   "outputs": [],
   "source": [
    "def TestNullPointer(function):\n",
    "    VariableName,indexOfLine,indexOfLineAtCode = GetObjectNameAndindex(function)\n",
    "    flag=1\n",
    "    for i in range(0,indexOfLine):\n",
    "        if \"if(\"+VariableName+\" != None)\" not in function[i]:\n",
    "            flag=0\n",
    "    if(flag==0):        \n",
    "        reportFile.write(\"* Null pointer exception :\" + VariableName +\" may = NULL at line -> \"+ str(indexOfLineAtCode+1) +\"\\n\" )\n",
    "                "
   ]
  },
  {
   "cell_type": "markdown",
   "metadata": {},
   "source": [
    "# 3. Hiding/ burying exceptions :\n",
    "***\n",
    "\n",
    "#### GetStartIndexOfExcept function \n",
    "***\n"
   ]
  },
  {
   "cell_type": "code",
   "execution_count": 12,
   "metadata": {},
   "outputs": [],
   "source": [
    "def GetStartIndexOfExcept():\n",
    "    startIndexOfExcept = []\n",
    "    for line in stackCode :\n",
    "        if (\"except\" in line):\n",
    "            startIndexOfExcept.append(stackCode.index(line))   \n",
    "    return startIndexOfExcept"
   ]
  },
  {
   "cell_type": "code",
   "execution_count": 13,
   "metadata": {},
   "outputs": [
    {
     "data": {
      "text/plain": [
       "[43, 45]"
      ]
     },
     "execution_count": 13,
     "metadata": {},
     "output_type": "execute_result"
    }
   ],
   "source": [
    "#print start Index Of each Except\n",
    "startIndexOfExcept = GetStartIndexOfExcept()\n",
    "startIndexOfExcept"
   ]
  },
  {
   "cell_type": "markdown",
   "metadata": {},
   "source": [
    "#### GetExceptsList function will get all the blocks for exceps in the code :"
   ]
  },
  {
   "cell_type": "code",
   "execution_count": 14,
   "metadata": {},
   "outputs": [],
   "source": [
    "def GetExceptsList(startIndexOfExcept):\n",
    "    exceptsList=[]\n",
    "    for i in range(0,len(startIndexOfExcept)):\n",
    "        if(i==(len(startIndexOfExcept)-1)):\n",
    "            exceptsList.append(stackCode[startIndexOfExcept[i]:len(stackCode)])\n",
    "            break;\n",
    "        exceptsList.append(stackCode[startIndexOfExcept[i]:startIndexOfExcept[i+1]])\n",
    "    return exceptsList"
   ]
  },
  {
   "cell_type": "code",
   "execution_count": 15,
   "metadata": {},
   "outputs": [],
   "source": [
    "exceptsList = GetExceptsList(startIndexOfExcept)"
   ]
  },
  {
   "cell_type": "markdown",
   "metadata": {},
   "source": [
    "#### TestHidingexception function will pass on eech except block at exceptsList an chick if it has an action or not :"
   ]
  },
  {
   "cell_type": "code",
   "execution_count": 16,
   "metadata": {},
   "outputs": [],
   "source": [
    "def TestHidingExcption():\n",
    "    for line in exceptsList:        \n",
    "        flag=0\n",
    "        for i in range(1,len(line)):\n",
    "            if((len(line[i]) - len(line[i].lstrip()))<=(len(line[0]) - len(line[0].lstrip()))):\n",
    "                break;\n",
    "\n",
    "            elif(not(line[i].strip()) or \"#\" in line[i] ) :\n",
    "                flag=0\n",
    "            else:\n",
    "                flag=1\n",
    "                break\n",
    "            if(flag==0):\n",
    "                reportFile.write(\"* Hiding/burying exceptions at line -> \"+ str(startIndexOfExcept[exceptsList.index(line)]+1)+ \"\\n\")"
   ]
  },
  {
   "cell_type": "markdown",
   "metadata": {},
   "source": [
    "# 4. Magic number :\n",
    "***\n",
    "\n",
    "#### Description\n",
    "***\n"
   ]
  },
  {
   "cell_type": "markdown",
   "metadata": {},
   "source": [
    "# 5. Do the attributes (e.g., data type and size) :\n",
    "***\n",
    "\n",
    "#### This function returns number and data type of function parameters \n",
    "***\n"
   ]
  },
  {
   "cell_type": "code",
   "execution_count": 17,
   "metadata": {},
   "outputs": [],
   "source": [
    "def checkParamsProperties(function):\n",
    "    parameters=function[function.index(\"(\")+1: function.index(\")\")]\n",
    "    parameters=parameters.split(\",\") \n",
    "    dataTypeOFParams=[]\n",
    "    numberOfParams=len(parameters)\n",
    " \n",
    "    for param in parameters: \n",
    "        dataTypeOFParams.append(param[param.index(':')+1:])\n",
    "        \n",
    "    return (dataTypeOFParams,numberOfParams)"
   ]
  },
  {
   "cell_type": "markdown",
   "metadata": {},
   "source": [
    "#### This function returns number and data type of function call arguments"
   ]
  },
  {
   "cell_type": "code",
   "execution_count": 18,
   "metadata": {},
   "outputs": [],
   "source": [
    "def checkArgumentProperties(function):\n",
    "    parameters=function[function.index(\"(\")+1: function.index(\")\")]\n",
    "    parameters=parameters.split(\",\")\n",
    "    numberOfParams=len(parameters)\n",
    "    dataTypeOFParams=[]\n",
    "    \n",
    "    for param in parameters:\n",
    "        if \"'\" in param:\n",
    "            dataTypeOFParams.append(\"chr\")   \n",
    "        elif param.isdigit():\n",
    "            dataTypeOFParams.append(\"int\") \n",
    "        else:\n",
    "            dataTypeOFParams.append(\"str\")\n",
    "    return (dataTypeOFParams,numberOfParams)\n",
    "\n"
   ]
  },
  {
   "cell_type": "markdown",
   "metadata": {},
   "source": [
    "### this function check if there is function call and return list of function call"
   ]
  },
  {
   "cell_type": "code",
   "execution_count": 19,
   "metadata": {},
   "outputs": [],
   "source": [
    "def CheckIfThereFunctionCall(function):\n",
    "    functionsCall=[]\n",
    "    for functionCall in function:\n",
    "        if functionCall==function[0]:\n",
    "            continue\n",
    "        if \"(\" and \")\" in functionCall and \"print\" not in functionCall:\n",
    "            functionsCall.append(functionCall)\n",
    "            \n",
    "    return functionsCall"
   ]
  },
  {
   "cell_type": "markdown",
   "metadata": {},
   "source": [
    "## this function if  the arguments and parameters matched and write on report file"
   ]
  },
  {
   "cell_type": "code",
   "execution_count": 20,
   "metadata": {},
   "outputs": [],
   "source": [
    "def CheckIfSameParametersAndArrguments(function):\n",
    "    \n",
    "        functionsCall=CheckIfThereFunctionCall(function)\n",
    "        for functionCall in functionsCall:\n",
    "            functionCallName=functionCall[:functionCall.index(\"(\")]\n",
    "            functionCallName=functionCallName.replace(' ','')\n",
    "            for i in functionsList:\n",
    "                functionName=i[0][8 :i[0].index(\"(\")]\n",
    "                if functionCallName == functionName:\n",
    "                    numOfFuncPar=checkParamsProperties(i[0])[1]\n",
    "                    numOfCallFuncPar=checkArgumentProperties(functionCall)[1]\n",
    "                    \n",
    "                    typeOfFuncPar=checkParamsProperties(i[0])[0]\n",
    "                    typeOfCallFuncPar=checkArgumentProperties(functionCall)[0]\n",
    "                    \n",
    "                    if numOfFuncPar!=numOfCallFuncPar:\n",
    "                        reportFile.write(\"* Number of attributes of function call \"+functionCall.replace(\" \",'')+\" at line -> \"+str(stackCode.index(functionCall))+\" did not match the number of parameters of the function \\n\")\n",
    "                    \n",
    "                    if typeOfFuncPar !=  typeOfCallFuncPar:\n",
    "                        reportFile.write(\"* data type of attributes of function call \"+functionCall.replace(\" \",'')+\" at line -> \"+str(stackCode.index(functionCall))+\" did not match the data type of parameters of the function \\n\")\n",
    "                        "
   ]
  },
  {
   "cell_type": "markdown",
   "metadata": {},
   "source": [
    "# 6. no more than three parameters for the methods :\n",
    "***\n",
    "\n",
    "#### Description\n",
    "***\n"
   ]
  },
  {
   "cell_type": "markdown",
   "metadata": {},
   "source": [
    "# 7. Unreachable code :\n",
    "***\n",
    "\n",
    "#### Description\n",
    "***\n"
   ]
  },
  {
   "cell_type": "markdown",
   "metadata": {},
   "source": [
    "## implementation of our static analyzer  tool :"
   ]
  },
  {
   "cell_type": "markdown",
   "metadata": {},
   "source": [
    "#### Create reporte file to save the bygs :"
   ]
  },
  {
   "cell_type": "code",
   "execution_count": 21,
   "metadata": {},
   "outputs": [],
   "source": [
    "reportFile= open(\"Report.txt\",\"w+\")"
   ]
  },
  {
   "cell_type": "markdown",
   "metadata": {},
   "source": [
    "### this StaticAnalyzerTool function will receive one function and check each line on it to see if it has any sentence that may cause any bug from the check list and if true it will call the tester functuin for this bug to print the details on text file ."
   ]
  },
  {
   "cell_type": "code",
   "execution_count": 22,
   "metadata": {},
   "outputs": [],
   "source": [
    "def StaticAnalyzerTool(function):\n",
    "    \n",
    "    if(divisionIsFound(function)==True):\n",
    "        TestDivideByZero(function)\n",
    "        \n",
    "    if(PointerIsFound(function)==True):  \n",
    "        TestNullPointer(function)\n",
    "    \n",
    "    #Magic number:\n",
    "    \n",
    "    \n",
    "    if(CheckIfThereFunctionCall(function)):\n",
    "        CheckIfSameParametersAndArrguments(function)\n",
    "    \n",
    "    #parameters:\n",
    "    #Unreachable code:\n",
    "    "
   ]
  },
  {
   "cell_type": "markdown",
   "metadata": {},
   "source": [
    "#### through on each function which is stored inside the functionaList , pass it to the Static Analyzer Fun to test it\n",
    "***"
   ]
  },
  {
   "cell_type": "code",
   "execution_count": 23,
   "metadata": {},
   "outputs": [],
   "source": [
    "functionNumber = 1\n",
    "for function in functionsList:   \n",
    "    StaticAnalyzerTool(function)\n",
    "    functionNumber+=1\n",
    "    \n",
    "#Hiding/burying exceptions\n",
    "TestHidingExcption()    "
   ]
  },
  {
   "cell_type": "code",
   "execution_count": 24,
   "metadata": {},
   "outputs": [],
   "source": [
    "reportFile.close()"
   ]
  }
 ],
 "metadata": {
  "kernelspec": {
   "display_name": "Python 3",
   "language": "python",
   "name": "python3"
  },
  "language_info": {
   "codemirror_mode": {
    "name": "ipython",
    "version": 3
   },
   "file_extension": ".py",
   "mimetype": "text/x-python",
   "name": "python",
   "nbconvert_exporter": "python",
   "pygments_lexer": "ipython3",
   "version": "3.8.8"
  }
 },
 "nbformat": 4,
 "nbformat_minor": 4
}
