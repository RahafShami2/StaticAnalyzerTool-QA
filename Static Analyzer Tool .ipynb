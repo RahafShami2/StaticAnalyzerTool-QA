{
 "cells": [
  {
   "cell_type": "markdown",
   "metadata": {},
   "source": [
    "### Here I read the Python code and then stored it in the \"codeFile\" variable,\n",
    "### after that we will go through each line of the codeFile so that this line is not empty or contains a comment,\n",
    "### and then add it to the \"stackCode\" . \n",
    "****************************************"
   ]
  },
  {
   "cell_type": "code",
   "execution_count": 1,
   "metadata": {},
   "outputs": [],
   "source": [
    "stackCode = []\n",
    "with open('PythonCode.py', 'r') as codeFile:\n",
    "    for line in codeFile:\n",
    "        line = line.strip()\n",
    "        if line and \"#\" not in line:\n",
    "            stackCode.append(line)"
   ]
  },
  {
   "cell_type": "code",
   "execution_count": 2,
   "metadata": {},
   "outputs": [
    {
     "data": {
      "text/plain": [
       "['class Person:',\n",
       " 'def __init__(self):',\n",
       " 'print(\"l\")',\n",
       " 'def Calculate(self, number,  divisor):',\n",
       " 'result = number/divisor;',\n",
       " 'return result',\n",
       " 'def myfunc(self):',\n",
       " 'if(status == -1 ):',\n",
       " 'print(\"-1MAGIC\")',\n",
       " 'elif(status == 1):',\n",
       " 'print(\"-1MAGIC\")',\n",
       " 'elif (status == 0):',\n",
       " 'print(\"-1MAGIC\")',\n",
       " 'def  Print(self,student):',\n",
       " 'print(\"Student\", student.name)']"
      ]
     },
     "execution_count": 2,
     "metadata": {},
     "output_type": "execute_result"
    }
   ],
   "source": [
    "#print stackCode :\n",
    "stackCode"
   ]
  },
  {
   "cell_type": "markdown",
   "metadata": {},
   "source": [
    "### Get the start index for each function in the code\n",
    "****************************************"
   ]
  },
  {
   "cell_type": "code",
   "execution_count": 3,
   "metadata": {},
   "outputs": [],
   "source": [
    "startIndexOfFunction = []\n",
    "for line in stackCode:\n",
    "    if (\"def\" in line):\n",
    "        startIndexOfFunction.append(stackCode.index(line))       "
   ]
  },
  {
   "cell_type": "code",
   "execution_count": 4,
   "metadata": {},
   "outputs": [
    {
     "data": {
      "text/plain": [
       "[1, 3, 6, 13]"
      ]
     },
     "execution_count": 4,
     "metadata": {},
     "output_type": "execute_result"
    }
   ],
   "source": [
    "startIndexOfFunction\n",
    "#Result = > [1, 4, 11] >> thats mean that we have function start at index 1 , function start at index 4 and function start at index 11 . "
   ]
  },
  {
   "cell_type": "markdown",
   "metadata": {},
   "source": [
    "####  Here I have stored all the functions inside functionsList \"PS : the start of some function is the end of another\":\n",
    "***********************\n"
   ]
  },
  {
   "cell_type": "code",
   "execution_count": 5,
   "metadata": {},
   "outputs": [],
   "source": [
    "functionsList=[]\n",
    "for i in range(0,len(startIndexOfFunction)):\n",
    "    if(i==(len(startIndexOfFunction)-1)):\n",
    "        functionsList.append(stackCode[startIndexOfFunction[i]:len(stackCode)])\n",
    "        break;\n",
    "    functionsList.append(stackCode[startIndexOfFunction[i]:startIndexOfFunction[i+1]])"
   ]
  },
  {
   "cell_type": "code",
   "execution_count": 6,
   "metadata": {},
   "outputs": [
    {
     "data": {
      "text/plain": [
       "[['def __init__(self):', 'print(\"l\")'],\n",
       " ['def Calculate(self, number,  divisor):',\n",
       "  'result = number/divisor;',\n",
       "  'return result'],\n",
       " ['def myfunc(self):',\n",
       "  'if(status == -1 ):',\n",
       "  'print(\"-1MAGIC\")',\n",
       "  'elif(status == 1):',\n",
       "  'print(\"-1MAGIC\")',\n",
       "  'elif (status == 0):',\n",
       "  'print(\"-1MAGIC\")'],\n",
       " ['def  Print(self,student):', 'print(\"Student\", student.name)']]"
      ]
     },
     "execution_count": 6,
     "metadata": {},
     "output_type": "execute_result"
    }
   ],
   "source": [
    "functionsList\n",
    "#The result is list of list each list in the parent list contains one function. "
   ]
  },
  {
   "cell_type": "markdown",
   "metadata": {},
   "source": [
    "### Our Static Analyzer Tool :)\n",
    "*****************"
   ]
  },
  {
   "cell_type": "markdown",
   "metadata": {},
   "source": [
    "#### Create reporte file to save the bygs :"
   ]
  },
  {
   "cell_type": "code",
   "execution_count": 7,
   "metadata": {},
   "outputs": [],
   "source": [
    "reportFile= open(\"Report.txt\",\"w+\")"
   ]
  },
  {
   "cell_type": "code",
   "execution_count": 8,
   "metadata": {},
   "outputs": [],
   "source": [
    "def StaticAnalyzerFun(function):\n",
    "    \n",
    "    if(divisionIsFound(function)==True):\n",
    "        TestDivideByZero(function)\n",
    "        \n",
    "    if(PointerIsFound(function)==True):\n",
    "        objectName,indexOfLine = GetObjectNameAndindex(function)\n",
    "        TestNullPointer(function,objectName,indexOfLine)\n",
    "        "
   ]
  },
  {
   "cell_type": "markdown",
   "metadata": {},
   "source": [
    "### this function will check if the function which is passes to static analyzer\n",
    "### have a division or not to applay TestDivideByZero function on it .\n",
    "***\n"
   ]
  },
  {
   "cell_type": "code",
   "execution_count": 9,
   "metadata": {},
   "outputs": [],
   "source": [
    "def divisionIsFound(function):\n",
    "    for line in function:\n",
    "        if \"/\" in line:\n",
    "            return True\n",
    "    return False"
   ]
  },
  {
   "cell_type": "markdown",
   "metadata": {},
   "source": [
    "###  TestDivideByZero will receive the function\n",
    "### and It passes each line by it and stores the arithmetic sentences inside ArithmeticSentences list , \n",
    "### then it will  passes each Arithmetic Sentence ArithmeticSentences list to get the denominator \n",
    "### and check if the value of the denominator is not equal to zero before the arithmetic operation applied\n",
    "### finally it will write the bug on  report file if it is found .\n"
   ]
  },
  {
   "cell_type": "code",
   "execution_count": 10,
   "metadata": {},
   "outputs": [],
   "source": [
    "def TestDivideByZero(function):\n",
    "    \n",
    "    ArithmeticSentences = [] \n",
    "    for line in function:\n",
    "        if \"/\" in line:\n",
    "            ArithmeticSentences.append(line)\n",
    "    \n",
    " \n",
    "    for ArithmeticSentence in ArithmeticSentences:\n",
    "        divisionSymbolIndex =  ArithmeticSentence.index(\"/\")\n",
    "        denominator = ArithmeticSentence[divisionSymbolIndex+1:len(ArithmeticSentence)-1]\n",
    "        for i in range(0,function.index(ArithmeticSentence)):\n",
    "            if \"if(\"+denominator+\" == 0)\" not in function[i]:\n",
    "                 reportFile.write(\"devide by zero error -> \" + denominator +\" = 0\\n\")"
   ]
  },
  {
   "cell_type": "markdown",
   "metadata": {},
   "source": [
    "### this function will check if the function which is passes to static analyzer\n",
    "### have a dot  symbol on other word check if the function have a ponter call its proirties \n",
    "### or not to applay TestNullPointer function on it .\n",
    "***\n"
   ]
  },
  {
   "cell_type": "code",
   "execution_count": 11,
   "metadata": {},
   "outputs": [],
   "source": [
    "def PointerIsFound(function):\n",
    "    for line in function:\n",
    "        if \".\" in line:\n",
    "            return True\n",
    "    return False"
   ]
  },
  {
   "cell_type": "markdown",
   "metadata": {},
   "source": [
    "###  Get pointer Name and its index :"
   ]
  },
  {
   "cell_type": "code",
   "execution_count": 12,
   "metadata": {},
   "outputs": [],
   "source": [
    "def GetObjectNameAndindex(function):\n",
    "    objectName = \"\"\n",
    "    for line in function: \n",
    "        if \".\" in line :\n",
    "            indexOfDot= line.index(\".\");\n",
    "            indexOfLine = function.index(line);\n",
    "            for i in range(indexOfDot-1, -1, -1):\n",
    "                if(line[i] == \" \"):\n",
    "                    break;\n",
    "                else:\n",
    "                    objectName+=line[i]\n",
    "                    \n",
    "    return(objectName[::-1],indexOfLine)\n",
    "                    "
   ]
  },
  {
   "cell_type": "markdown",
   "metadata": {},
   "source": [
    "### TestNullPointer function will through on the passed function from index = 0 to the index of pointer \n",
    "### to check if we have an if statment that chek if the pointer ! = Null ."
   ]
  },
  {
   "cell_type": "code",
   "execution_count": 13,
   "metadata": {},
   "outputs": [],
   "source": [
    "def TestNullPointer(function,objectName,indexOfLine):\n",
    "    for i in range(0,indexOfLine):\n",
    "        if \"if(\"+objectName+\" != None)\" not in function[i]:\n",
    "                 reportFile.write(\"Null pointer exception ->\" + objectName +\" object = None \\n\" )"
   ]
  },
  {
   "cell_type": "markdown",
   "metadata": {},
   "source": [
    "### Pass over each function which is stored inside the functionsList , and pass to the  StaticAnalyzerFun to test it\n",
    "***"
   ]
  },
  {
   "cell_type": "code",
   "execution_count": 14,
   "metadata": {},
   "outputs": [],
   "source": [
    "functionNumber = 1\n",
    "for function in functionsList:\n",
    "    reportFile.write(\"Bugs at function\"+ str(functionNumber) +\": \\n\" )\n",
    "    StaticAnalyzerFun(function)\n",
    "    functionNumber+=1"
   ]
  },
  {
   "cell_type": "code",
   "execution_count": 15,
   "metadata": {},
   "outputs": [],
   "source": [
    "reportFile.close()"
   ]
  }
 ],
 "metadata": {
  "kernelspec": {
   "display_name": "Python 3",
   "language": "python",
   "name": "python3"
  },
  "language_info": {
   "codemirror_mode": {
    "name": "ipython",
    "version": 3
   },
   "file_extension": ".py",
   "mimetype": "text/x-python",
   "name": "python",
   "nbconvert_exporter": "python",
   "pygments_lexer": "ipython3",
   "version": "3.8.3"
  }
 },
 "nbformat": 4,
 "nbformat_minor": 4
}
