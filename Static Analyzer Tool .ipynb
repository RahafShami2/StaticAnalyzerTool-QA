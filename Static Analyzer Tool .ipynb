{
 "cells": [
  {
   "cell_type": "markdown",
   "metadata": {},
   "source": [
    "### Here I read the Python code as \"codeFile\" ,\n",
    "### after that we will go through each line of the codeFile\n",
    "### and then add it to the \"stackCode\" list . \n",
    "****************************************"
   ]
  },
  {
   "cell_type": "code",
   "execution_count": 1,
   "metadata": {},
   "outputs": [],
   "source": [
    "stackCode = []\n",
    "with open('PythonCode.py', 'r') as codeFile:\n",
    "    for line in codeFile:      \n",
    "        stackCode.append(line)"
   ]
  },
  {
   "cell_type": "code",
   "execution_count": 2,
   "metadata": {},
   "outputs": [
    {
     "data": {
      "text/plain": [
       "['#!/usr/bin/env python\\n',\n",
       " '# coding: utf-8\\n',\n",
       " '\\n',\n",
       " '\\n',\n",
       " 'class program:\\n',\n",
       " ' \\n',\n",
       " '    \\n',\n",
       " '    def Calculate(self, number,  divisor):\\n',\n",
       " '        result = number/divisor;\\n',\n",
       " '        return result\\n',\n",
       " '\\n',\n",
       " '\\n',\n",
       " '    def statusValue(status):\\n',\n",
       " '        if(status == -1 ):\\n',\n",
       " '            print(\"faild\")\\n',\n",
       " '        elif(status == 1):\\n',\n",
       " '            print(\"success\")      \\n',\n",
       " '        elif (status == 0):\\n',\n",
       " '            print(\"invalid\")\\n',\n",
       " '            \\n',\n",
       " '            \\n',\n",
       " '            \\n',\n",
       " '    def checkStatus():\\n',\n",
       " '        status_value(2,5)\\n',\n",
       " '        \\n',\n",
       " '    \\n',\n",
       " '    def parameters(param1, param2, param3, param4):\\n',\n",
       " '        return 1\\n',\n",
       " '    \\n',\n",
       " '    \\n',\n",
       " '    def unReachable(num):\\n',\n",
       " '        if(num>40):\\n',\n",
       " '            if(num >30):\\n',\n",
       " '                return 1\\n',\n",
       " '            \\n',\n",
       " '            \\n',\n",
       " '    def  Print(self,student):\\n',\n",
       " '        print(\"Student\", student.name)\\n',\n",
       " '      \\n',\n",
       " ' \\n',\n",
       " '    def magicNum():\\n',\n",
       " '        if(state==1):\\n',\n",
       " '            return 1\\n']"
      ]
     },
     "execution_count": 2,
     "metadata": {},
     "output_type": "execute_result"
    }
   ],
   "source": [
    "#print stackCode :\n",
    "stackCode"
   ]
  },
  {
   "cell_type": "markdown",
   "metadata": {},
   "source": [
    "### Get the start index for each function in the code\n",
    "****************************************"
   ]
  },
  {
   "cell_type": "code",
   "execution_count": 3,
   "metadata": {},
   "outputs": [],
   "source": [
    "startIndexOfFunction = []\n",
    "for line in stackCode:\n",
    "    if (\"def\" in line):\n",
    "        startIndexOfFunction.append(stackCode.index(line))       "
   ]
  },
  {
   "cell_type": "code",
   "execution_count": 4,
   "metadata": {},
   "outputs": [
    {
     "data": {
      "text/plain": [
       "[7, 12, 22, 26, 30, 36, 40]"
      ]
     },
     "execution_count": 4,
     "metadata": {},
     "output_type": "execute_result"
    }
   ],
   "source": [
    "startIndexOfFunction\n",
    "#If Result = > [1, 4, 11] >> thats mean that we have function start at index 1 , function start at index 4 and function start at index 11 . "
   ]
  },
  {
   "cell_type": "markdown",
   "metadata": {},
   "source": [
    "####  Here I have stored all the functions inside functionsList \"PS : the start of some function is the end of another\":\n",
    "***********************\n"
   ]
  },
  {
   "cell_type": "code",
   "execution_count": 5,
   "metadata": {},
   "outputs": [],
   "source": [
    "functionsList=[]\n",
    "for i in range(0,len(startIndexOfFunction)):\n",
    "    if(i==(len(startIndexOfFunction)-1)):\n",
    "        functionsList.append(stackCode[startIndexOfFunction[i]:len(stackCode)])\n",
    "        break;\n",
    "    functionsList.append(stackCode[startIndexOfFunction[i]:startIndexOfFunction[i+1]])"
   ]
  },
  {
   "cell_type": "code",
   "execution_count": 6,
   "metadata": {},
   "outputs": [
    {
     "data": {
      "text/plain": [
       "[['    def Calculate(self, number,  divisor):\\n',\n",
       "  '        result = number/divisor;\\n',\n",
       "  '        return result\\n',\n",
       "  '\\n',\n",
       "  '\\n'],\n",
       " ['    def statusValue(status):\\n',\n",
       "  '        if(status == -1 ):\\n',\n",
       "  '            print(\"faild\")\\n',\n",
       "  '        elif(status == 1):\\n',\n",
       "  '            print(\"success\")      \\n',\n",
       "  '        elif (status == 0):\\n',\n",
       "  '            print(\"invalid\")\\n',\n",
       "  '            \\n',\n",
       "  '            \\n',\n",
       "  '            \\n'],\n",
       " ['    def checkStatus():\\n',\n",
       "  '        status_value(2,5)\\n',\n",
       "  '        \\n',\n",
       "  '    \\n'],\n",
       " ['    def parameters(param1, param2, param3, param4):\\n',\n",
       "  '        return 1\\n',\n",
       "  '    \\n',\n",
       "  '    \\n'],\n",
       " ['    def unReachable(num):\\n',\n",
       "  '        if(num>40):\\n',\n",
       "  '            if(num >30):\\n',\n",
       "  '                return 1\\n',\n",
       "  '            \\n',\n",
       "  '            \\n'],\n",
       " ['    def  Print(self,student):\\n',\n",
       "  '        print(\"Student\", student.name)\\n',\n",
       "  '      \\n',\n",
       "  ' \\n'],\n",
       " ['    def magicNum():\\n',\n",
       "  '        if(state==1):\\n',\n",
       "  '            return 1\\n']]"
      ]
     },
     "execution_count": 6,
     "metadata": {},
     "output_type": "execute_result"
    }
   ],
   "source": [
    "functionsList\n",
    "#The result is list of list each list in the parent list contains one function. "
   ]
  },
  {
   "cell_type": "markdown",
   "metadata": {},
   "source": [
    "### Our Static Analyzer Tool :)\n",
    "*****************"
   ]
  },
  {
   "cell_type": "markdown",
   "metadata": {},
   "source": [
    "## Check list functions implementation :\n",
    "..................................................................................................................."
   ]
  },
  {
   "cell_type": "markdown",
   "metadata": {},
   "source": [
    "# 1. Divide by zero :\n",
    "***\n",
    "\n",
    "#### this function will check if the function which is passes to static analyzer\n",
    "#### have a division or not to applay TestDivideByZero function on it .\n",
    "***\n"
   ]
  },
  {
   "cell_type": "code",
   "execution_count": 7,
   "metadata": {},
   "outputs": [],
   "source": [
    "def divisionIsFound(function):\n",
    "    for line in function:\n",
    "        if \"/\" in line:\n",
    "            return True\n",
    "    return False"
   ]
  },
  {
   "cell_type": "markdown",
   "metadata": {},
   "source": [
    "####  TestDivideByZero function will receive the function\n",
    "#### and It passes each line by it and stores the arithmetic sentences inside ArithmeticSentences list ,\n",
    "#### in addetion it will store the location of the arithmetic sentence relative to the code to be checked in the lineIndex list\n",
    "#### then it will  passes each Arithmetic Sentence ArithmeticSentences list to get the denominator \n",
    "#### and check if the value of the denominator is not equal to zero before the arithmetic operation applied\n",
    "#### finally it will write the bug on  report file if it is found and its line .\n"
   ]
  },
  {
   "cell_type": "code",
   "execution_count": 8,
   "metadata": {},
   "outputs": [],
   "source": [
    "def TestDivideByZero(function):\n",
    "    ArithmeticSentences = []\n",
    "    lineIndex=[]\n",
    "    for line in function:\n",
    "        if \"/\" in line:\n",
    "            ArithmeticSentences.append(line)\n",
    "            lineIndex.append(stackCode.index(line))\n",
    " \n",
    "    flag=1\n",
    "    for ArithmeticSentence in ArithmeticSentences:\n",
    "            divisionSymbolIndex =  ArithmeticSentence.index(\"/\")\n",
    "            denominator = ArithmeticSentence[divisionSymbolIndex+1:len(ArithmeticSentence)-1]\n",
    "            for i in range(0,function.index(ArithmeticSentence)):\n",
    "                if \"if(\"+denominator+\" == 0)\" not in function[i]:\n",
    "                    flag=0\n",
    "            if(flag==0):\n",
    "                reportFile.write(\"devide by zero error ->\" + denominator +\"= 0 at line \"+str(lineIndex[ArithmeticSentences.index(ArithmeticSentence)]+1) +\"\\n\")"
   ]
  },
  {
   "cell_type": "markdown",
   "metadata": {},
   "source": [
    "# 2. Null pointer exception :\n",
    "***\n",
    "\n",
    "#### PointerIsFound function will check if the function which is passes to static analyzer\n",
    "#### have a dot  symbol on other word check if the function have a ponter call its proirties \n",
    "#### or not to applay TestNullPointer function on it .\n",
    "***\n"
   ]
  },
  {
   "cell_type": "code",
   "execution_count": 9,
   "metadata": {},
   "outputs": [],
   "source": [
    "def PointerIsFound(function):\n",
    "    for line in function:\n",
    "        if \".\" in line:\n",
    "            return True\n",
    "    return False"
   ]
  },
  {
   "cell_type": "markdown",
   "metadata": {},
   "source": [
    "###  Get variable Name ,  its index relative to the function itself + its index relative to the code to be checked :"
   ]
  },
  {
   "cell_type": "code",
   "execution_count": 10,
   "metadata": {},
   "outputs": [],
   "source": [
    "def GetObjectNameAndindex(function):\n",
    "    objectName = \"\"\n",
    "    for line in function: \n",
    "        if \".\" in line :\n",
    "            indexOfDot= line.index(\".\");\n",
    "            indexOfLineAtFunc = function.index(line)\n",
    "            indexOfLineAtCode = stackCode.index(line)\n",
    "            for i in range(indexOfDot-1, -1, -1):\n",
    "                if(line[i] == \" \"):\n",
    "                    break;\n",
    "                else:\n",
    "                    objectName+=line[i]\n",
    "                    \n",
    "    return(objectName[::-1],indexOfLineAtFunc,indexOfLineAtCode)"
   ]
  },
  {
   "cell_type": "markdown",
   "metadata": {},
   "source": [
    "#### TestNullPointer function will through on the passed function from index = 0 to the index of code which may caouse null pointer error . \n",
    "#### to check if we have an if statment that chek if the variable ! = Null ."
   ]
  },
  {
   "cell_type": "code",
   "execution_count": 11,
   "metadata": {},
   "outputs": [],
   "source": [
    "def TestNullPointer(function,objectName,indexOfLine, indexOfLineAtCode):\n",
    "    \n",
    "    flag=1\n",
    "    for i in range(0,indexOfLine):\n",
    "        if \"if(\"+objectName+\" != None)\" not in function[i]:\n",
    "            flag=0\n",
    "    if(flag==0):        \n",
    "        reportFile.write(\"Null pointer exception ->\" + objectName +\" object = NULL at line \"+ str(indexOfLineAtCode+1) +\"\\n\" )\n",
    "                "
   ]
  },
  {
   "cell_type": "markdown",
   "metadata": {},
   "source": [
    "# 3. Magic number :\n",
    "***\n",
    "\n",
    "#### Description\n",
    "***\n"
   ]
  },
  {
   "cell_type": "markdown",
   "metadata": {},
   "source": [
    "# 4. Do the attributes (e.g., data type and size) :\n",
    "***\n",
    "\n",
    "#### Description\n",
    "***\n"
   ]
  },
  {
   "cell_type": "markdown",
   "metadata": {},
   "source": [
    "# 5. no more than three parameters for the methods :\n",
    "***\n",
    "\n",
    "#### Description\n",
    "***\n"
   ]
  },
  {
   "cell_type": "markdown",
   "metadata": {},
   "source": [
    "# 6. Unreachable code :\n",
    "***\n",
    "\n",
    "#### Description\n",
    "***\n"
   ]
  },
  {
   "cell_type": "markdown",
   "metadata": {},
   "source": [
    "## implementation of our static analyzer  tool :"
   ]
  },
  {
   "cell_type": "markdown",
   "metadata": {},
   "source": [
    "#### Create reporte file to save the bygs :"
   ]
  },
  {
   "cell_type": "code",
   "execution_count": 12,
   "metadata": {},
   "outputs": [],
   "source": [
    "reportFile= open(\"Report.txt\",\"w+\")"
   ]
  },
  {
   "cell_type": "markdown",
   "metadata": {},
   "source": [
    "### this StaticAnalyzerTool function will receive one function and check each line on it to see if it has any sentence that may cause any bug from the check list and if true it will call the tester functuin for this bug to print the details on text file ."
   ]
  },
  {
   "cell_type": "code",
   "execution_count": 16,
   "metadata": {},
   "outputs": [],
   "source": [
    "def StaticAnalyzerTool(function):\n",
    "    \n",
    "    if(divisionIsFound(function)==True):\n",
    "        TestDivideByZero(function)\n",
    "        \n",
    "    if(PointerIsFound(function)==True):\n",
    "        objectName,indexOfLine,indexOfLineAtCode = GetObjectNameAndindex(function)\n",
    "        TestNullPointer(function,objectName,indexOfLine, indexOfLineAtCode)\n",
    "        \n",
    "    #Magic number:\n",
    "    #Do the attributes:\n",
    "    #parameters:\n",
    "    #Unreachable code:\n",
    "    \n",
    "    "
   ]
  },
  {
   "cell_type": "markdown",
   "metadata": {},
   "source": [
    "#### through on each function which is stored inside the functionaList , pass it to the Static Analyzer Fun to test it\n",
    "***"
   ]
  },
  {
   "cell_type": "code",
   "execution_count": 14,
   "metadata": {},
   "outputs": [],
   "source": [
    "functionNumber = 1\n",
    "for function in functionsList:\n",
    "    reportFile.write(\"Bugs at function\"+ str(functionNumber) +\": \\n\" )\n",
    "    StaticAnalyzerTool(function)\n",
    "    functionNumber+=1"
   ]
  },
  {
   "cell_type": "code",
   "execution_count": 15,
   "metadata": {},
   "outputs": [],
   "source": [
    "reportFile.close()"
   ]
  }
 ],
 "metadata": {
  "kernelspec": {
   "display_name": "Python 3",
   "language": "python",
   "name": "python3"
  },
  "language_info": {
   "codemirror_mode": {
    "name": "ipython",
    "version": 3
   },
   "file_extension": ".py",
   "mimetype": "text/x-python",
   "name": "python",
   "nbconvert_exporter": "python",
   "pygments_lexer": "ipython3",
   "version": "3.8.3"
  }
 },
 "nbformat": 4,
 "nbformat_minor": 4
}
